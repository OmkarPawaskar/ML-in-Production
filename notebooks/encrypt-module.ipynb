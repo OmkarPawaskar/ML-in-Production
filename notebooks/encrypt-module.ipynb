{
 "cells": [
  {
   "cell_type": "code",
   "execution_count": 16,
   "id": "2b4bb6df",
   "metadata": {},
   "outputs": [
    {
     "data": {
      "text/plain": [
       "True"
      ]
     },
     "execution_count": 16,
     "metadata": {},
     "output_type": "execute_result"
    }
   ],
   "source": [
    "import pathlib\n",
    "import os\n",
    "from cryptography.fernet import Fernet\n",
    "from dotenv import load_dotenv\n",
    "\n",
    "load_dotenv()"
   ]
  },
  {
   "cell_type": "code",
   "execution_count": 17,
   "id": "173f7768",
   "metadata": {},
   "outputs": [],
   "source": [
    "def generate_key():\n",
    "    return Fernet.generate_key().decode('UTF-8')"
   ]
  },
  {
   "cell_type": "code",
   "execution_count": 18,
   "id": "f4c38f3d",
   "metadata": {},
   "outputs": [],
   "source": [
    "ENCRYPTION_KEY = os.environ.get('ENCRYPTION_KEY')"
   ]
  },
  {
   "cell_type": "code",
   "execution_count": 19,
   "id": "c25c48b9",
   "metadata": {},
   "outputs": [
    {
     "data": {
      "text/plain": [
       "True"
      ]
     },
     "execution_count": 19,
     "metadata": {},
     "output_type": "execute_result"
    }
   ],
   "source": [
    "BASE_DIR = pathlib.Path().resolve().parent\n",
    "BASE_DIR.exists()"
   ]
  },
  {
   "cell_type": "code",
   "execution_count": 20,
   "id": "496b8dcf",
   "metadata": {},
   "outputs": [
    {
     "data": {
      "text/plain": [
       "True"
      ]
     },
     "execution_count": 20,
     "metadata": {},
     "output_type": "execute_result"
    }
   ],
   "source": [
    "APP_DIR = BASE_DIR / 'app'\n",
    "APP_DIR.exists()"
   ]
  },
  {
   "cell_type": "code",
   "execution_count": 21,
   "id": "4f9a76c8",
   "metadata": {},
   "outputs": [],
   "source": [
    "IGNORED_DIR = APP_DIR / 'ignored'\n",
    "SECURED_DIR = APP_DIR / 'encrypted'\n",
    "DECRYPTED_DIR = APP_DIR / 'decrypted'"
   ]
  },
  {
   "cell_type": "code",
   "execution_count": 22,
   "id": "2316cf80",
   "metadata": {},
   "outputs": [],
   "source": [
    "def encrypt_dir(input_dir, output_dir):\n",
    "    key = ENCRYPTION_KEY\n",
    "    if not key:\n",
    "        raise Exception(\"Encryption Key not found!\")\n",
    "    fer = Fernet(key)\n",
    "    input_dir = pathlib.Path(input_dir)\n",
    "    output_dir = pathlib.Path(output_dir)\n",
    "    output_dir.mkdir(exist_ok=True, parents=True)\n",
    "    for path in input_dir.glob(\"*\"):\n",
    "        _path_bytes = path.read_bytes() #open(\"filepath\", 'rb')\n",
    "        data = fer.encrypt(_path_bytes)\n",
    "        rel_path = path.relative_to(input_dir) \n",
    "        dest_path = output_dir / rel_path\n",
    "        dest_path.write_bytes(data)"
   ]
  },
  {
   "cell_type": "code",
   "execution_count": 23,
   "id": "e6e225a6",
   "metadata": {},
   "outputs": [],
   "source": [
    "def decrypt_dir(input_dir, output_dir):\n",
    "    key = ENCRYPTION_KEY\n",
    "    if not key:\n",
    "        raise Exception(\"Encryption Key not found!\")\n",
    "    fer = Fernet(key)\n",
    "    input_dir = pathlib.Path(input_dir)\n",
    "    output_dir = pathlib.Path(output_dir)\n",
    "    output_dir.mkdir(exist_ok=True, parents=True)\n",
    "    for path in input_dir.glob(\"*\"):\n",
    "        _path_bytes = path.read_bytes()\n",
    "        data = fer.decrypt(_path_bytes)\n",
    "        rel_path = path.relative_to(input_dir)\n",
    "        dest_path = output_dir / rel_path\n",
    "        dest_path.write_bytes(data)"
   ]
  },
  {
   "cell_type": "code",
   "execution_count": 24,
   "id": "68b9a682",
   "metadata": {},
   "outputs": [],
   "source": [
    "encrypt_dir(str(IGNORED_DIR), str(SECURED_DIR))"
   ]
  },
  {
   "cell_type": "code",
   "execution_count": 25,
   "id": "3385f22b",
   "metadata": {},
   "outputs": [],
   "source": [
    "decrypt_dir(str(SECURED_DIR), str(DECRYPTED_DIR))"
   ]
  },
  {
   "cell_type": "code",
   "execution_count": null,
   "id": "489b73a7",
   "metadata": {},
   "outputs": [],
   "source": []
  }
 ],
 "metadata": {
  "kernelspec": {
   "display_name": "Python 3 (ipykernel)",
   "language": "python",
   "name": "python3"
  },
  "language_info": {
   "codemirror_mode": {
    "name": "ipython",
    "version": 3
   },
   "file_extension": ".py",
   "mimetype": "text/x-python",
   "name": "python",
   "nbconvert_exporter": "python",
   "pygments_lexer": "ipython3",
   "version": "3.9.6"
  }
 },
 "nbformat": 4,
 "nbformat_minor": 5
}
