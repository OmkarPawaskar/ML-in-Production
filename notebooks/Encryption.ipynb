{
 "cells": [
  {
   "cell_type": "code",
   "execution_count": 1,
   "id": "5457bf5b",
   "metadata": {},
   "outputs": [
    {
     "name": "stdout",
     "output_type": "stream",
     "text": [
      "Collecting cryptography\n",
      "  Downloading cryptography-36.0.0-cp36-abi3-win_amd64.whl (2.2 MB)\n",
      "Requirement already satisfied: cffi>=1.12 in e:\\projects\\ml in production\\env\\lib\\site-packages (from cryptography) (1.15.0)\n",
      "Requirement already satisfied: pycparser in e:\\projects\\ml in production\\env\\lib\\site-packages (from cffi>=1.12->cryptography) (2.20)\n",
      "Installing collected packages: cryptography\n",
      "Successfully installed cryptography-36.0.0\n"
     ]
    },
    {
     "name": "stderr",
     "output_type": "stream",
     "text": [
      "WARNING: You are using pip version 21.1.3; however, version 21.3.1 is available.\n",
      "You should consider upgrading via the 'e:\\projects\\ml in production\\env\\scripts\\python.exe -m pip install --upgrade pip' command.\n"
     ]
    }
   ],
   "source": [
    "!pip install cryptography"
   ]
  },
  {
   "cell_type": "code",
   "execution_count": 2,
   "id": "2b4bb6df",
   "metadata": {},
   "outputs": [],
   "source": [
    "from cryptography.fernet import Fernet"
   ]
  },
  {
   "cell_type": "code",
   "execution_count": 8,
   "id": "173f7768",
   "metadata": {},
   "outputs": [],
   "source": [
    "key = Fernet.generate_key().decode('UTF-8')"
   ]
  },
  {
   "cell_type": "code",
   "execution_count": 9,
   "id": "f4c38f3d",
   "metadata": {},
   "outputs": [],
   "source": [
    "import pathlib"
   ]
  },
  {
   "cell_type": "code",
   "execution_count": 11,
   "id": "c25c48b9",
   "metadata": {},
   "outputs": [
    {
     "data": {
      "text/plain": [
       "True"
      ]
     },
     "execution_count": 11,
     "metadata": {},
     "output_type": "execute_result"
    }
   ],
   "source": [
    "BASE_DIR = pathlib.Path().resolve().parent\n",
    "BASE_DIR.exists()"
   ]
  },
  {
   "cell_type": "code",
   "execution_count": 12,
   "id": "496b8dcf",
   "metadata": {},
   "outputs": [
    {
     "data": {
      "text/plain": [
       "True"
      ]
     },
     "execution_count": 12,
     "metadata": {},
     "output_type": "execute_result"
    }
   ],
   "source": [
    "APP_DIR = BASE_DIR / 'app'\n",
    "APP_DIR.exists()"
   ]
  },
  {
   "cell_type": "code",
   "execution_count": 14,
   "id": "4f9a76c8",
   "metadata": {},
   "outputs": [],
   "source": [
    "IGNORED_DIR = APP_DIR / 'ignored'\n",
    "SECURED_DIR = APP_DIR / 'encrypted'\n",
    "DECRYPTED_DIR = APP_DIR / 'decrypted'\n",
    "\n",
    "SECURED_DIR.mkdir(exist_ok=True, parents=True)\n",
    "DECRYPTED_DIR.mkdir(exist_ok=True, parents=True)"
   ]
  },
  {
   "cell_type": "code",
   "execution_count": 15,
   "id": "bfd1027c",
   "metadata": {},
   "outputs": [],
   "source": [
    "fer = Fernet(key)"
   ]
  },
  {
   "cell_type": "code",
   "execution_count": 22,
   "id": "e6e225a6",
   "metadata": {},
   "outputs": [],
   "source": [
    "for path in IGNORED_DIR.glob(\"*\"):\n",
    "    _path_bytes = path.read_bytes() #open(\"filepath\", 'rb')\n",
    "    data = fer.encrypt(_path_bytes)\n",
    "    rel_path = path.relative_to(IGNORED_DIR) \n",
    "    dest_path = SECURED_DIR / rel_path\n",
    "    dest_path.write_bytes(data)\n"
   ]
  },
  {
   "cell_type": "code",
   "execution_count": 23,
   "id": "6f0c0a07",
   "metadata": {},
   "outputs": [],
   "source": [
    "for path in SECURED_DIR.glob(\"*\"):\n",
    "    _path_bytes = path.read_bytes()\n",
    "    data = fer.decrypt(_path_bytes)\n",
    "    rel_path = path.relative_to(SECURED_DIR)\n",
    "    dest_path = DECRYPTED_DIR / rel_path\n",
    "    dest_path.write_bytes(data)"
   ]
  },
  {
   "cell_type": "code",
   "execution_count": null,
   "id": "68b9a682",
   "metadata": {},
   "outputs": [],
   "source": []
  }
 ],
 "metadata": {
  "kernelspec": {
   "display_name": "Python 3 (ipykernel)",
   "language": "python",
   "name": "python3"
  },
  "language_info": {
   "codemirror_mode": {
    "name": "ipython",
    "version": 3
   },
   "file_extension": ".py",
   "mimetype": "text/x-python",
   "name": "python",
   "nbconvert_exporter": "python",
   "pygments_lexer": "ipython3",
   "version": "3.9.6"
  }
 },
 "nbformat": 4,
 "nbformat_minor": 5
}
